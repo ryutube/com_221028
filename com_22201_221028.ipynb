{
  "nbformat": 4,
  "nbformat_minor": 0,
  "metadata": {
    "colab": {
      "provenance": [],
      "collapsed_sections": [],
      "authorship_tag": "ABX9TyM2BI7NxhjiIsatpx+wEzbH",
      "include_colab_link": true
    },
    "kernelspec": {
      "name": "python3",
      "display_name": "Python 3"
    },
    "language_info": {
      "name": "python"
    }
  },
  "cells": [
    {
      "cell_type": "markdown",
      "metadata": {
        "id": "view-in-github",
        "colab_type": "text"
      },
      "source": [
        "<a href=\"https://colab.research.google.com/github/ryutube/com_221028/blob/main/com_22201_221028.ipynb\" target=\"_parent\"><img src=\"https://colab.research.google.com/assets/colab-badge.svg\" alt=\"Open In Colab\"/></a>"
      ]
    },
    {
      "cell_type": "code",
      "execution_count": 1,
      "metadata": {
        "colab": {
          "base_uri": "https://localhost:8080/"
        },
        "id": "LyiDCUNHMThh",
        "outputId": "56f3bad4-0277-4ddc-c235-f1ec1e18c643"
      },
      "outputs": [
        {
          "output_type": "stream",
          "name": "stdout",
          "text": [
            "##########\n",
            "# 안녕하세요? #\n",
            "##########\n"
          ]
        }
      ],
      "source": [
        "print(\"#\" * 10)\n",
        "print(\"# 안녕하세요? #\")\n",
        "print(\"#\" * 10)"
      ]
    },
    {
      "cell_type": "code",
      "source": [
        "print('3개의 값을 입력하시오.')\n",
        "x = int(input(\"x의 값을 입력하시오.\"))\n",
        "y = int(input(\"y의 값을 입력하시오.\"))\n",
        "z = int(input(\"z의 값을 입력하시오.\"))\n",
        "x = x + 1\n",
        "y = y + 1\n",
        "z = z + 1 \n",
        "print(\"변경된 값은:\"  ,x, y,z의 값으로 변경되었습니다.)"
      ],
      "metadata": {
        "colab": {
          "base_uri": "https://localhost:8080/",
          "height": 137
        },
        "id": "l9fDsInLNrQm",
        "outputId": "66621314-9852-418b-b266-dc17c6f4d06d"
      },
      "execution_count": 2,
      "outputs": [
        {
          "output_type": "error",
          "ename": "SyntaxError",
          "evalue": "ignored",
          "traceback": [
            "\u001b[0;36m  File \u001b[0;32m\"<ipython-input-2-d3f018e15bde>\"\u001b[0;36m, line \u001b[0;32m8\u001b[0m\n\u001b[0;31m    print(\"변경된 값은:\"  ,x, y,z의 값으로 변경되었습니다.)\u001b[0m\n\u001b[0m                                ^\u001b[0m\n\u001b[0;31mSyntaxError\u001b[0m\u001b[0;31m:\u001b[0m invalid syntax\n"
          ]
        }
      ]
    },
    {
      "cell_type": "code",
      "source": [
        "x = 10\n",
        "y = 2\n",
        "result = x + y\n",
        "print(result)"
      ],
      "metadata": {
        "colab": {
          "base_uri": "https://localhost:8080/"
        },
        "id": "wfUdd_j4PbUu",
        "outputId": "f5ba4e27-67bb-49c5-dd92-7f0508c4e23e"
      },
      "execution_count": 3,
      "outputs": [
        {
          "output_type": "stream",
          "name": "stdout",
          "text": [
            "12\n"
          ]
        }
      ]
    },
    {
      "cell_type": "code",
      "source": [
        "(ahrenhelt) t =1 00\n",
        "celsius = (ahrenhelt) - 32\n",
        "celsius = celsius * 5\n",
        "celsius = celsius  / 9\n",
        "print(celsius)\n"
      ],
      "metadata": {
        "colab": {
          "base_uri": "https://localhost:8080/",
          "height": 137
        },
        "id": "C3rw_LYlQmHW",
        "outputId": "57853246-5187-4983-c171-2049c1f9ca89"
      },
      "execution_count": 5,
      "outputs": [
        {
          "output_type": "error",
          "ename": "SyntaxError",
          "evalue": "ignored",
          "traceback": [
            "\u001b[0;36m  File \u001b[0;32m\"<ipython-input-5-83e528ffc16b>\"\u001b[0;36m, line \u001b[0;32m1\u001b[0m\n\u001b[0;31m    (ahrenhelt) t =1 00\u001b[0m\n\u001b[0m                ^\u001b[0m\n\u001b[0;31mSyntaxError\u001b[0m\u001b[0;31m:\u001b[0m invalid syntax\n"
          ]
        }
      ]
    }
  ]
}